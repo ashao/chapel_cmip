{
 "cells": [
  {
   "cell_type": "code",
   "execution_count": 26,
   "metadata": {
    "collapsed": true
   },
   "outputs": [],
   "source": [
    "import xarray as xr\n",
    "import numpy as np\n",
    "import matplotlib.pyplot as plt\n",
    "import timeit\n",
    "import glob"
   ]
  },
  {
   "cell_type": "code",
   "execution_count": 30,
   "metadata": {
    "collapsed": true
   },
   "outputs": [],
   "source": [
    "# Load model output of sea surface temperature (SST) from netCDF files\n",
    "datapath = '/raid/ra40/data/ras/ESM2G/'\n",
    "files = glob.glob(datapath + 'tos*historical*.nc')\n",
    "files.sort()\n",
    "# data  = xr.open_dataset(datapath + 'tos_Omon_GFDL-ESM2G_historical_r1i1p1_200101-200512.nc')\n",
    "data = xr.open_mfdataset(files)\n",
    "tos = data.tos.load()\n",
    "ntime,nlat,nlon = tos.shape"
   ]
  },
  {
   "cell_type": "code",
   "execution_count": null,
   "metadata": {},
   "outputs": [
    {
     "name": "stdout",
     "output_type": "stream",
     "text": [
      "0\n",
      "10\n",
      "20\n",
      "30\n",
      "40\n",
      "50\n",
      "60\n",
      "70\n",
      "80\n",
      "90\n",
      "100\n",
      "110\n",
      "120\n",
      "130\n",
      "140\n",
      "150\n",
      "160\n",
      "170\n",
      "180\n",
      "190\n",
      "200\n"
     ]
    }
   ],
   "source": [
    "start_time = timeit.default_timer()\n",
    "# Calculate monthly averages\n",
    "monthly_average = np.zeros((12,nlat,nlon))\n",
    "nyears = ntime/12.\n",
    "for jtime in range(0,ntime):\n",
    "    current_month = np.mod(jtime,12) # Keep track of which month we're in\n",
    "    monthly_average[current_month,:,:] = tos[jtime,:,:] + monthly_average[current_month,:,:]\n",
    "monthly_average[:,:,:] = monthly_average[:,:,:]/nyears\n",
    "# Calculate monthly anomalies by subtracting the monthly climatology\n",
    "tos_anomaly = np.zeros((ntime,nlat,nlon))\n",
    "for jtime in range(0,ntime):\n",
    "    current_month = np.mod(jtime,12) # Keep track of which month we're in\n",
    "    tos_anomaly[jtime,:,:] = tos[jtime,:,:] - monthly_average[current_month,:,:]\n",
    "    # Calculate the El-Nino Southern Oscillation (ENSO) Index from the Nino 3.4 region\n",
    "nino_minlat = -5  ; nino_maxlat = 5\n",
    "nino_minlon = -170 ; nino_maxlon = -120\n",
    "nino_index = np.zeros((ntime,1))\n",
    "total_area = 0\n",
    "for jlat in range(0,nlat):\n",
    "    if (np.mod(jlat,10)==0):\n",
    "        print(jlat)\n",
    "    for jlon in range(0,nlon):\n",
    "        inregion = ( (data.lat[jlat,jlon] >= nino_minlat and data.lat[jlat,jlon] <= nino_maxlat) and \n",
    "                     (data.lon[jlat,jlon] >= nino_minlon and data.lon[jlat,jlon] <= nino_maxlon) )\n",
    "        if (inregion):  \n",
    "            # This should be an area-weighted average, but for simplicity \n",
    "            # we do a naive average based on the total number of points\n",
    "            total_area = total_area + 1\n",
    "            for jtime in range(0,ntime):\n",
    "                nino_index[jtime] = nino_index[jtime] + np.array(tos_anomaly[jtime,jlat,jlon])\n",
    "nino_index[:] = nino_index[:] / total_area\n",
    "# Calculate the covariance between the ENSO index and sea surface temperatures\n",
    "nino_sst_covariance = np.zeros((nlat,nlon))\n",
    "for jtime in range(0,ntime):\n",
    "    for jlat in range(0,nlat):\n",
    "        for jlon in range(0,nlon):\n",
    "            nino_sst_covariance[jlat,jlon] = (nino_sst_covariance[jlat,jlon] + \n",
    "                                              tos_anomaly[jtime,jlat,jlon]*nino_index[jtime])\n",
    "nino_sst_covariance = nino_sst_covariance/(ntime - 1)\n",
    "elapsed_time = timeit.default_timer() - start_time\n",
    "print(\"Slow variant: %f\" % elapsed_time)\n",
    "plt.pcolormesh(nino_sst_covariance); plt.colorbar(); plt.show()\n",
    "plt.plot(nino_index)"
   ]
  },
  {
   "cell_type": "code",
   "execution_count": null,
   "metadata": {},
   "outputs": [],
   "source": [
    "start_time = timeit.default_timer()\n",
    "nino_minlat = -5  ; nino_maxlat = 5\n",
    "nino_minlon = -170 ; nino_maxlon = -120\n",
    "monthly_average = tos.groupby('time.month').mean('time')\n",
    "tos_anomaly = tos.groupby('time.month') - monthly_average\n",
    "nino34_mask = xr.ufuncs.logical_and(\n",
    "                            xr.ufuncs.logical_and(data.lat>nino_minlat,data.lat<=nino_maxlat),\n",
    "                            xr.ufuncs.logical_and(data.lon>nino_minlon,data.lon<=nino_maxlon)\n",
    "                            )\n",
    "nino_index = tos_anomaly.where( nino34_mask ).mean(('rlat','rlon'))\n",
    "nino_sst_covariance = (tos_anomaly*nino_index).mean('time')\n",
    "nino_sst_covariance.compute()\n",
    "print(\"Fast variant: %f\" % elapsed_time)\n",
    "elapsed_time = timeit.default_timer() - start_time\n",
    "plt.pcolormesh(nino_sst_covariance); plt.colorbar(); plt.show()\n",
    "plt.plot(nino_index)\n"
   ]
  },
  {
   "cell_type": "code",
   "execution_count": null,
   "metadata": {},
   "outputs": [],
   "source": []
  }
 ],
 "metadata": {
  "kernelspec": {
   "display_name": "Python 3",
   "language": "python",
   "name": "python3"
  },
  "language_info": {
   "codemirror_mode": {
    "name": "ipython",
    "version": 3
   },
   "file_extension": ".py",
   "mimetype": "text/x-python",
   "name": "python",
   "nbconvert_exporter": "python",
   "pygments_lexer": "ipython3",
   "version": "3.6.3"
  }
 },
 "nbformat": 4,
 "nbformat_minor": 2
}
